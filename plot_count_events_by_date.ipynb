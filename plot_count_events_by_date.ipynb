{
 "cells": [
  {
   "cell_type": "code",
   "execution_count": 1,
   "metadata": {},
   "outputs": [
    {
     "data": {
      "image/png": "[encoded data removed]",
      "text/plain": [
       "<Figure size 432x288 with 1 Axes>"
      ]
     },
     "metadata": {},
     "output_type": "display_data"
    }
   ],
   "source": [
    "''' Draw timeline of counts per day for log4j hits as reported in Splunk.\n",
    "    - Use the output of search_log4j_payload.py, search_log4j.txt\n",
    "'''\n",
    "\n",
    "import sys\n",
    "import pandas as pd\n",
    "from datetime import datetime\n",
    "import seaborn as sns\n",
    "import matplotlib.pyplot as plt\n",
    "\n",
    "\n",
    "class Myopt():\n",
    "    def __init__(self, args=None):\n",
    "\n",
    "        self.description = '''Draw timeline of hits per dayParse ip and hosts from file'''\n",
    "        self.p = argparse.ArgumentParser(description=self.description)\n",
    "        add = self.p.add_argument\n",
    "        add(\"fn\", help=\"Input file containing ip and hosts\")\n",
    "        add(\"--dedup\", action=\"store_true\", help=\"Deduplicate output\")\n",
    "        add(\"-o\", \"--output\", help=\"Output file for time, host\", default=\"log4j_hosts.csv\")\n",
    "        if args:\n",
    "            self.opt = self.p.parse_args(args)\n",
    "        else:\n",
    "            self.opt = self.p.parse_args()\n",
    "            \n",
    "arg = [\"-\", \"search_log4j.txt\"]\n",
    "\n",
    "# Read the events returned by the splunk search\n",
    "if arg is None:\n",
    "    arg = sys.argv\n",
    "if len(arg) < 1:\n",
    "    fn = \"search_log4j.txt\"\n",
    "else:\n",
    "    fn = arg[1]\n",
    "\n",
    "payload = pd.read_csv(fn)\n",
    "\n",
    "def get_date(x):\n",
    "    #\n",
    "    dt = datetime.strptime(x, \"%m/%d/%Y %H:%M:%S\")\n",
    "    result = dt.date()\n",
    "    return result\n",
    "\n",
    "payload[\"day\"] = payload[\"earliest\"].apply(get_date)\n",
    "\n",
    "\n",
    "sns.set_theme(style=\"darkgrid\")\n",
    "\n",
    "# Get a list of the dates in order\n",
    "# countplot produces a date scale that appears to be in arbitrary order\n",
    "order = [ d for d in sorted(set(payload[\"day\"]))]\n",
    "\n",
    "# countplot returns an axes object which can be used\n",
    "# to customize the appearance of the plot.\n",
    "# Make plot horizontal by using y. It's easier to read the scale.\n",
    "grid = sns.countplot(data=payload, y=\"day\", color='lightsteelblue', order=order)\n",
    "\n",
    "# Tilt the axis labels. Necessary if day is on the x-axis.\n",
    "plt.setp(grid.axes.get_xticklabels(), rotation=0)\n",
    "\n",
    "# Change the label. \"day\" had to be used to avoid reserved word, date\n",
    "grid.axes.set_ylabel(\"Date\")\n",
    "\n",
    "# Use log (base2) scale for count\n",
    "plt.semilogx(base=2)\n",
    "\n",
    "#\n",
    "# grid.axes.set_xticks([1, 2,4,8,16,32,64,128,256, 512])\n",
    "import math\n",
    "\n",
    "# Find the tick labels for the base 2 log scale of x-axis\n",
    "# Get the range of calculated count.\n",
    "xmin, xmax = grid.axes.get_xlim()\n",
    "# Compute the number of labels, nlabels = min(n) such that 2**n >= xmax\n",
    "nlabels = math.floor(math.log(xmax)/math.log(2)) + 1\n",
    "\n",
    "# Set the ticks. Add 1 because range does not include highest value\n",
    "grid.axes.set_xticks([2**n for n in range(nlabels + 1)])\n",
    "\n",
    "# Clear the formatting of the xticklabel. By default it is shown as 2 with n superscript.\n",
    "from matplotlib import ticker\n",
    "grid.axes.get_xaxis().set_major_formatter(ticker.ScalarFormatter())"
   ]
  },
  {
   "cell_type": "code",
   "execution_count": null,
   "metadata": {},
   "outputs": [],
   "source": []
  }
 ],
 "metadata": {
  "kernelspec": {
   "display_name": "Python [conda env:dmv_test]",
   "language": "python",
   "name": "conda-env-dmv_test-py"
  },
  "language_info": {
   "codemirror_mode": {
    "name": "ipython",
    "version": 3
   },
   "file_extension": ".py",
   "mimetype": "text/x-python",
   "name": "python",
   "nbconvert_exporter": "python",
   "pygments_lexer": "ipython3",
   "version": "3.9.7"
  },
  "varInspector": {
   "cols": {
    "lenName": 16,
    "lenType": 16,
    "lenVar": 40
   },
   "kernels_config": {
    "python": {
     "delete_cmd_postfix": "",
     "delete_cmd_prefix": "del ",
     "library": "var_list.py",
     "varRefreshCmd": "print(var_dic_list())"
    },
    "r": {
     "delete_cmd_postfix": ") ",
     "delete_cmd_prefix": "rm(",
     "library": "var_list.r",
     "varRefreshCmd": "cat(var_dic_list()) "
    }
   },
   "types_to_exclude": [
    "module",
    "function",
    "builtin_function_or_method",
    "instance",
    "_Feature"
   ],
   "window_display": false
  }
 },
 "nbformat": 4,
 "nbformat_minor": 4
}
