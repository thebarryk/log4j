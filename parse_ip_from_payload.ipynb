{
 "cells": [
  {
   "cell_type": "code",
   "execution_count": 13,
   "metadata": {
    "scrolled": true
   },
   "outputs": [
    {
     "name": "stdout",
     "output_type": "stream",
     "text": [
      "Not deduping ..\n",
      "Done!\n"
     ]
    }
   ],
   "source": [
    "%%python - all_jndi_hits_2021.csv -o all_jndi_hosts_2021.csv\n",
    "''' Read report of web payload's and get list of source hosts\n",
    "    Usage: parse_ip_from_payload FN [--dedup] [-o OUTPUT]\n",
    "    --dedup .. include one event per host at the earliest time it occurred\n",
    "'''\n",
    "import re\n",
    "import pandas as pd\n",
    "import numpy as np\n",
    "import sys\n",
    "import ipaddress\n",
    "from collections import defaultdict\n",
    "import argparse\n",
    "\n",
    "class Myopt():\n",
    "    def __init__(self, args=None):\n",
    "\n",
    "        self.description = '''Parse ip and hosts from file'''\n",
    "        self.p = argparse.ArgumentParser(description=self.description)\n",
    "        add = self.p.add_argument\n",
    "        add(\"fn\", help=\"Input file containing ip and hosts\")\n",
    "        add(\"--dedup\", action=\"store_true\", help=\"Deduplicate output\")\n",
    "        add(\"-o\", \"--output\", help=\"Output file for time, host\", default=\"log4j_hosts.csv\")\n",
    "        if args:\n",
    "            self.opt = self.p.parse_args(args)\n",
    "        else:\n",
    "            self.opt = self.p.parse_args()\n",
    "            \n",
    "def fetch_ip(str):\n",
    "    ''' fetch_ip(str)-->list of ip adresses in string '''\n",
    "    ippat = r\"((?:(?:[0-9]{1,3})(?:\\.)){3}(?:[0-9]{1,3}))\"\n",
    "    grp = re.findall(ippat, str)  \n",
    "    # Worst case: findall returns an empty group\n",
    "    return grp\n",
    "\n",
    "def fetch_host(cmd):\n",
    "    ''' fetch_host(str)-->list of hosts after http[s] in string '''\n",
    "    httppat = r\"https?:\\/\\/(?:\\?*)([^\\/:]+)(?:[\\:\\/])\"\n",
    "    grp = re.findall(httppat, cmd)\n",
    "    return grp\n",
    "\n",
    "def main():\n",
    "    ''' Read report of web payload's and get list of unique source hosts '''\n",
    "\n",
    "    # read the search results from the file supplied as program argument\n",
    "\n",
    "    fn = myopt.fn\n",
    "    # log is dict with columns host, time and payload\n",
    "    log = pd.read_csv(fn)\n",
    "\n",
    "    # Drop any rows that contain Nan. e.g. some of the web paylod's\n",
    "    # cannot be converted from base64\n",
    "    log = log.dropna(subset=[\"payload\"]).reset_index(drop=True)\n",
    "\n",
    "    ## Find the hosts being referenced in the payload's\n",
    "\n",
    "    events = defaultdict(list)\n",
    "    \n",
    "    for rec, cmd in enumerate(log.payload):\n",
    "        \n",
    "        # Run fetch_ip first to get all the ip addresses\n",
    "        # Keep the repetitions because each represents another hit\n",
    "        r1 = [f\"{x}\" for x in fetch_ip(cmd)]\n",
    "        \n",
    "        # Do not add any ip addresses which were already found by fetch_ip \n",
    "        r2 = [f\"{x}\" for x in fetch_host(cmd) if x not in r1]\n",
    "        \n",
    "        timestamp = log.time[rec]\n",
    "        for host in r1 + r2:\n",
    "            events[host].append(timestamp)\n",
    "\n",
    "    # Deduplicate by storing only one time, the earliest of e make into a df, and output as csv\n",
    "    if myopt.dedup:\n",
    "        print(\"Deduping ..\")\n",
    "        for host in events:\n",
    "            earliest = min(events[host])\n",
    "            events[host] = [earliest]\n",
    "    else:\n",
    "        print(\"Not deduping ..\")\n",
    "\n",
    "# Write csv with columns time, ip\n",
    "# Store the host in column named ip to match name used by whois\n",
    "# Note: whois will not use any that are not valid ip addresses\n",
    "    \n",
    "    with open(myopt.output,\"w\") as fout:\n",
    "        fout.write(\"time,ip\\n\")\n",
    "        for host, times in events.items():\n",
    "            for ztime in times:\n",
    "                fout.write(f\"{ztime},{host}\\n\")\n",
    "\n",
    "# Establish options in global object, myoptions, so it can be used anywhere.\n",
    "\n",
    "# myoptions = Myopt(\"all_jndi_hits_2021.csv -o all_jndi_hosts_2021.csv\".split())\n",
    "myoptions = Myopt()\n",
    "myopt = myoptions.opt  # Makes it easy to get an option e.g. myopt.dedup\n",
    "\n",
    "main()\n",
    "print(\"Done!\")\n",
    "\n",
    "    "
   ]
  },
  {
   "cell_type": "code",
   "execution_count": null,
   "metadata": {},
   "outputs": [],
   "source": []
  }
 ],
 "metadata": {
  "kernelspec": {
   "display_name": "Python [conda env:dmv_test]",
   "language": "python",
   "name": "conda-env-dmv_test-py"
  },
  "language_info": {
   "codemirror_mode": {
    "name": "ipython",
    "version": 3
   },
   "file_extension": ".py",
   "mimetype": "text/x-python",
   "name": "python",
   "nbconvert_exporter": "python",
   "pygments_lexer": "ipython3",
   "version": "3.9.7"
  },
  "varInspector": {
   "cols": {
    "lenName": 16,
    "lenType": 16,
    "lenVar": 40
   },
   "kernels_config": {
    "python": {
     "delete_cmd_postfix": "",
     "delete_cmd_prefix": "del ",
     "library": "var_list.py",
     "varRefreshCmd": "print(var_dic_list())"
    },
    "r": {
     "delete_cmd_postfix": ") ",
     "delete_cmd_prefix": "rm(",
     "library": "var_list.r",
     "varRefreshCmd": "cat(var_dic_list()) "
    }
   },
   "types_to_exclude": [
    "module",
    "function",
    "builtin_function_or_method",
    "instance",
    "_Feature"
   ],
   "window_display": false
  }
 },
 "nbformat": 4,
 "nbformat_minor": 4
}
