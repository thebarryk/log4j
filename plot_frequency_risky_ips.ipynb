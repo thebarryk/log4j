{
 "cells": [
  {
   "cell_type": "code",
   "execution_count": 3,
   "metadata": {},
   "outputs": [
    {
     "data": {
      "image/png": "[encoded data removed]",
      "text/plain": [
       "<Figure size 864x432 with 1 Axes>"
      ]
     },
     "metadata": {
      "needs_background": "light"
     },
     "output_type": "display_data"
    },
    {
     "data": {
      "image/png": "[encoded data removed]",
      "text/plain": [
       "<Figure size 864x432 with 1 Axes>"
      ]
     },
     "metadata": {
      "needs_background": "light"
     },
     "output_type": "display_data"
    },
    {
     "name": "stdout",
     "output_type": "stream",
     "text": [
      "Done!\n"
     ]
    }
   ],
   "source": [
    "''' Draw histogram of counts vs risk for the ip addresses found\n",
    "    in log4j hits as reported in Splunk.\n",
    "    - Use the output of parse_ip_from_payload.py\n",
    "    \n",
    "    Since this program draws graphs it cannot run with %%python\n",
    "    nor, from the CLI.\n",
    "'''\n",
    "\n",
    "ARGS = \"all_jndi_hosts_2021.csv --base 5\".split()\n",
    "\n",
    "# Import the modules\n",
    "import pandas as pd\n",
    "import numpy as np\n",
    "import seaborn as sns\n",
    "import matplotlib.pyplot as plt\n",
    "import seaborn as sns\n",
    "import dmv_test.mywhois as mywhois\n",
    "import ipaddress\n",
    "import argparse\n",
    "import math\n",
    "\n",
    "# Arguments --------------------------------------------------------------------\n",
    "\n",
    "description = '''Draw histogram of counts vs risk for the ip addresses'''\n",
    "parser = argparse.ArgumentParser(description=description)\n",
    "parser.add_argument(\"fn\", help=\"Input file containing ip and hosts\")\n",
    "parser.add_argument(\"--base\", type=int, default=2)\n",
    "\n",
    "# When executed from CLI do not put in an argument\n",
    "# myopt = parser.parse_args()\n",
    "\n",
    "myopt = parser.parse_args(ARGS)\n",
    " \n",
    "# Functions --------------------------------------------------------------------\n",
    "\n",
    "def ip_only(hosts):\n",
    "    ## ip_only(df): Return rows where ip is legitimate\n",
    "    def is_ip(host):\n",
    "        ## Test if ip address is proper\n",
    "        try:\n",
    "            ip_address = ipaddress.ip_address(host)\n",
    "        except:\n",
    "            return False\n",
    "        return True\n",
    "    return hosts[hosts[\"ip\"].apply(is_ip)].copy()\n",
    "\n",
    "def fscore(ip_string):\n",
    "    ## fscore(ipstring): get internet risk score as integer\n",
    "    r = whois.find(ip_string)\n",
    "    return int(r[\"score\"]) if r else -1 \n",
    "\n",
    "def frisk(ip_string):\n",
    "    ## frisk(ip_string): get internet risk \n",
    "    r = whois.find(ip_string)\n",
    "    return r[\"risk\"] if r else \"Unknown\"\n",
    "\n",
    "def tick_labels(x, nbins, base):\n",
    "    # Return values to labels for semilog y-axis, count\n",
    "    # x = vector being counted; nbins = # of of bins; semilog\n",
    "     \n",
    "    # histogram returns values of x and y axis. Use for # of y-ticks.\n",
    "    ymax = np.histogram(x, nbins-1)[0].max()\n",
    "    \n",
    "    # Compute the number of ticks = min(n) such that 2**n >= ymax\n",
    "    ticks = math.floor(math.log(ymax)/math.log(base)) + 2\n",
    "    return base**np.arange(ticks)\n",
    "    \n",
    "def semiplot1(hosts, base=2):\n",
    "    fig, ax = plt.subplots(figsize=(12,6))\n",
    "    g = sns.histplot(data=hosts, x=\"risk\", ax=ax)\n",
    "    \n",
    "    plt.semilogy(base=base)\n",
    "    ticks = tick_labels(hosts.risk_value, len(categories), base)  \n",
    "    plt.yticks(ticks, [ f\"{x:.0f}\" for x in ticks ])\n",
    "    plt.title(\"Semilog plot of Count vs Internet Risk of IP\")\n",
    "    plt.show()\n",
    "\n",
    "def semiplot2(hosts, base=2):\n",
    "    fig, ax = plt.subplots(figsize=(12,6))\n",
    "    g1 = sns.histplot(data=hosts, x=\"score\", ax=ax, bins=10)\n",
    "    \n",
    "    plt.semilogy(base=base)   \n",
    "    ticks = tick_labels(hosts.risk_value, len(categories), base)  \n",
    "    plt.yticks(ticks, [ f\"{x:.0f}\" for x in ticks ])\n",
    "    plt.title(\"Semilog plot of Count vs Internet Score of IP\")\n",
    "    plt.show()\n",
    "\n",
    "# Main program --------------------------------------------------------------\n",
    "  \n",
    "# load the whois database - readonly - global\n",
    "whois = mywhois.Risk(\"/home/bkrawchuk/notebooks/dmv_test/mywhois\", readonly=True)\n",
    "\n",
    "# Read the hosts found in the https jndi events returned by the splunk search\n",
    "raw_hosts = pd.read_csv(myopt.fn)\n",
    "\n",
    "# Clean list by dropping bad ip addresses (probably host names)\n",
    "hosts = ip_only(raw_hosts)\n",
    "\n",
    "# Add internet risk score and risk category\n",
    "myscore = hosts.loc[:,\"ip\"].apply(fscore).copy()\n",
    "myrisk  = hosts.loc[:,\"ip\"].apply(frisk).copy()\n",
    "\n",
    "hosts.loc[:,\"risk\"]  = myrisk\n",
    "hosts.loc[:,\"score\"] = myscore\n",
    "\n",
    "# List: ranking associates numerical risk_value with risk category\n",
    "\n",
    "ranking = {\"Unknown\":0, \"low\":1, \"medium\":2, \"high\":3, \"very high\":4}\n",
    "\n",
    "# The categories list is ordered by the values of their ranking\n",
    "categories = [x[0] for x in sorted(ranking.items(), key=lambda item: item[1])]\n",
    "\n",
    "# Make risk into a factor category\n",
    "# See https://stackoverflow.com/questions/67205522/set-order-on-sns-histplot\n",
    "hosts[\"risk_value\"] = hosts.risk.apply(lambda x: ranking[x])\n",
    "\n",
    "# Add the risk_value to the dataframe so np.histogram can compute range of y-axis\n",
    "hosts.risk = pd.Categorical(hosts.risk, categories)\n",
    "\n",
    "# Draw plots\n",
    "semiplot1(hosts, base=myopt.base)\n",
    "\n",
    "semiplot2(hosts, base=myopt.base)\n",
    "\n",
    "print(\"Done!\")\n",
    "\n"
   ]
  },
  {
   "cell_type": "code",
   "execution_count": null,
   "metadata": {},
   "outputs": [],
   "source": []
  },
  {
   "cell_type": "code",
   "execution_count": null,
   "metadata": {},
   "outputs": [],
   "source": []
  }
 ],
 "metadata": {
  "kernelspec": {
   "display_name": "Python [conda env:dmv_test]",
   "language": "python",
   "name": "conda-env-dmv_test-py"
  },
  "language_info": {
   "codemirror_mode": {
    "name": "ipython",
    "version": 3
   },
   "file_extension": ".py",
   "mimetype": "text/x-python",
   "name": "python",
   "nbconvert_exporter": "python",
   "pygments_lexer": "ipython3",
   "version": "3.9.7"
  },
  "varInspector": {
   "cols": {
    "lenName": 16,
    "lenType": 16,
    "lenVar": 40
   },
   "kernels_config": {
    "python": {
     "delete_cmd_postfix": "",
     "delete_cmd_prefix": "del ",
     "library": "var_list.py",
     "varRefreshCmd": "print(var_dic_list())"
    },
    "r": {
     "delete_cmd_postfix": ") ",
     "delete_cmd_prefix": "rm(",
     "library": "var_list.r",
     "varRefreshCmd": "cat(var_dic_list()) "
    }
   },
   "types_to_exclude": [
    "module",
    "function",
    "builtin_function_or_method",
    "instance",
    "_Feature"
   ],
   "window_display": false
  }
 },
 "nbformat": 4,
 "nbformat_minor": 4
}
