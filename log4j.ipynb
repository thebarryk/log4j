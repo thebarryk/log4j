{
 "cells": [
  {
   "cell_type": "code",
   "execution_count": null,
   "metadata": {},
   "outputs": [],
   "source": [
    "import base64\n",
    "import csv\n",
    "import pandas as pd\n",
    "import numpy as np\n",
    "import pprint\n",
    "import urllib.request, urllib.parse, urllib.error\n",
    "import httplib2\n",
    "from xml.dom import minidom\n",
    "import getpass\n",
    "\n",
    "pp = pprint.PrettyPrinter()\n",
    "\n",
    "fn = \"log64_attempts.12-13-2012.csv\"\n",
    "\n",
    "indexes = \" OR \".join([\"index=\"+x for x in \"\"\"directory_services_nonprod\n",
    "dmv_google_cloud\n",
    "doh_google_cloud\n",
    "dol_google_cloud\n",
    "dtf_http\n",
    "estreamer\n",
    "fireeye\n",
    "hcr_google_cloud\n",
    "health_datapower\n",
    "health_network\n",
    "its_google_cloud\n",
    "its_okta_nonprod\n",
    "main\n",
    "miauditlogs\n",
    "os\n",
    "otda_google_cloud\n",
    "vmware\n",
    "webny\n",
    "webny_nonprod\n",
    "wineventlog\"\"\".split(\"\\n\")])\n",
    "\n",
    "earliest_time = \"12/12/2021:00:00:00\"\n",
    "latest_time =\"-1d@d\"\n",
    "detail = '''Base64 Command \"${jndi:*}\" | rex \"\\${jndi.*?Base64\\/(?<b64>[^}]*?)}.*\" \n",
    "| mvexpand b64 | stats values(host) as host earliest(_time) as earliest  by b64 |  mvexpand host \n",
    "| convert timeformat=\"%m/%d/%Y %H:%M:%S\" ctime(earliest) as earliest \n",
    "| sort host +earliest \n",
    "| table host earliest b64'''\n",
    "\n",
    "query = \" \".join([\"search earliest=\", earliest_time, \"latest=\", latest_time, indexes, detail])\n",
    "\n",
    "def d64(x):\n",
    "    # d(b64) decodes base64 byte string. =Nan if there's an error\n",
    "    try:\n",
    "        r = base64.b64decode(x, altchars=\"-_\").decode()\n",
    "    except:\n",
    "        r = np.nan\n",
    "    return r\n",
    "\n",
    "# Read the splunk extraction into a dataframe\n",
    "def get_data(fn, method = 0):\n",
    "    if method == 0:\n",
    "        return pd.read_csv(fn)\n",
    "\n",
    "def sprt(events):\n",
    "    lst = []\n",
    "    for result in results.ResultsReader(events):\n",
    "        lst.extend(result.values())\n",
    "    return lst\n"
   ]
  },
  {
   "cell_type": "code",
   "execution_count": null,
   "metadata": {},
   "outputs": [],
   "source": [
    "# This job makes a real search and outputs the result.\n",
    "# Assume an authenticated session is open.\n",
    "\n",
    "import sys\n",
    "from time import sleep\n",
    "import splunklib.results as results\n",
    "import splunklib.client as client\n",
    "\n",
    "HOST = \"cnsesplunkoperations.svc.ny.gov\"\n",
    "PORT = 8089\n",
    "USERNAME = \"bdk01\"\n",
    "PASSWORD = getpass.getpass()\n",
    "OWNER = \"bdk01\"\n",
    "APP = \"search\"\n",
    "\n",
    "# Create a Service instance and log in \n",
    "service = client.connect(\n",
    "    host=HOST,\n",
    "    port=PORT,\n",
    "    username=USERNAME,\n",
    "    password=PASSWORD,\n",
    "    owner=OWNER,\n",
    "    app=APP)\n",
    "\n",
    "# searchquery_normal = \"search index=main | stats values(sourcetype)\"\n",
    "searchquery_normal = query\n",
    "# pp.pprint(query)\n",
    "\n",
    "kwargs_normalsearch = {\n",
    "#     \"earliest_time\": \"12/09/2021:00:00:00\",\n",
    "#     \"latest_time\": \"-1d@d\",\n",
    "    \"search_mode\": \"normal\"\n",
    "    }\n",
    "\n",
    "job = service.jobs.create(searchquery_normal, **kwargs_normalsearch)\n",
    "\n",
    "# A normal search returns the job's SID right away, so we need to poll for completion\n",
    "while True:\n",
    "    while not job.is_ready():\n",
    "        pass\n",
    "    stats = {\"isDone\": job[\"isDone\"],\n",
    "             \"doneProgress\": float(job[\"doneProgress\"])*100,\n",
    "              \"scanCount\": int(job[\"scanCount\"]),\n",
    "              \"eventCount\": int(job[\"eventCount\"]),\n",
    "              \"resultCount\": int(job[\"resultCount\"])}\n",
    "\n",
    "    status = (\"\\r%(doneProgress)03.1f%%   %(scanCount)d scanned   \"\n",
    "              \"%(eventCount)d matched   %(resultCount)d results\") % stats\n",
    "\n",
    "    print(f\"{status=}\")\n",
    "    sys.stdout.flush()\n",
    "    if stats[\"isDone\"] == \"1\":\n",
    "        sys.stdout.write(\"\\n\\nDone!\\n\\n\")\n",
    "        break\n",
    "    sleep(2)\n",
    "\n",
    "# Get the results and display them\n",
    "# for result in results.ResultsReader(job.results()):\n",
    "#     print(result)\n",
    "\n",
    "save_results = job.results()\n",
    "\n",
    "def make_list(events):\n",
    "    lst = []\n",
    "    for result in results.ResultsReader(events):\n",
    "        lst.extend(result.values())\n",
    "    return lst\n",
    "\n",
    "def make_df(lst, columns):\n",
    "    n = len(columns)\n",
    "    ln = len(lst)\n",
    "    if ln % n != 0:\n",
    "        return None\n",
    "    for i in range(0, len(lst), n):\n",
    "        if not df:\n",
    "            df = pd.CreateFrame(lst[0::n], columns[0])\n",
    "        else:\n",
    "            df[columns[i]] = lst[i::n]\n",
    "    \n",
    "    \n",
    "\n",
    "lst = make_list(save_results)\n",
    "for i in range(0, len(lst), 3):\n",
    "    print(f\"{lst[i]}  {lst[i+1]}  {d64(lst[i+2])}\")\n",
    "\n",
    "# print(sprt(save_results))\n",
    "# pp.pprint([x.decode() for x in list(job.results())])\n",
    "    \n",
    "# job.cancel()   \n",
    "# sys.stdout.write('\\n')"
   ]
  },
  {
   "cell_type": "code",
   "execution_count": 8,
   "metadata": {},
   "outputs": [
    {
     "name": "stdout",
     "output_type": "stream",
     "text": [
      "> \u001b[0;32m/tmp/ipykernel_4558/3292140861.py\u001b[0m(15)\u001b[0;36mmake_df\u001b[0;34m()\u001b[0m\n",
      "\u001b[0;32m     13 \u001b[0;31m        \u001b[0;32mreturn\u001b[0m \u001b[0mdf\u001b[0m\u001b[0;34m\u001b[0m\u001b[0;34m\u001b[0m\u001b[0m\n",
      "\u001b[0m\u001b[0;32m     14 \u001b[0;31m    \u001b[0;32mimport\u001b[0m \u001b[0mpdb\u001b[0m\u001b[0;34m;\u001b[0m \u001b[0mpdb\u001b[0m\u001b[0;34m.\u001b[0m\u001b[0mset_trace\u001b[0m\u001b[0;34m(\u001b[0m\u001b[0;34m)\u001b[0m\u001b[0;34m\u001b[0m\u001b[0;34m\u001b[0m\u001b[0m\n",
      "\u001b[0m\u001b[0;32m---> 15 \u001b[0;31m    \u001b[0;32mfor\u001b[0m \u001b[0mcol\u001b[0m \u001b[0;32min\u001b[0m \u001b[0mrange\u001b[0m\u001b[0;34m(\u001b[0m\u001b[0;36m0\u001b[0m\u001b[0;34m,\u001b[0m \u001b[0mlen_list\u001b[0m\u001b[0;34m,\u001b[0m \u001b[0mlen_column\u001b[0m\u001b[0;34m)\u001b[0m\u001b[0;34m:\u001b[0m\u001b[0;34m\u001b[0m\u001b[0;34m\u001b[0m\u001b[0m\n",
      "\u001b[0m\u001b[0;32m     16 \u001b[0;31m        \u001b[0;32mif\u001b[0m \u001b[0mdf\u001b[0m\u001b[0;34m:\u001b[0m\u001b[0;34m\u001b[0m\u001b[0;34m\u001b[0m\u001b[0m\n",
      "\u001b[0m\u001b[0;32m     17 \u001b[0;31m            \u001b[0mdf\u001b[0m\u001b[0;34m[\u001b[0m\u001b[0mcolumn_names\u001b[0m\u001b[0;34m[\u001b[0m\u001b[0mcol\u001b[0m\u001b[0;34m]\u001b[0m\u001b[0;34m]\u001b[0m \u001b[0;34m=\u001b[0m \u001b[0mlst\u001b[0m\u001b[0;34m[\u001b[0m\u001b[0mcol\u001b[0m\u001b[0;34m:\u001b[0m\u001b[0;34m:\u001b[0m\u001b[0mlen_column\u001b[0m\u001b[0;34m]\u001b[0m\u001b[0;34m\u001b[0m\u001b[0;34m\u001b[0m\u001b[0m\n",
      "\u001b[0m\n",
      "ipdb> c\n"
     ]
    },
    {
     "ename": "ValueError",
     "evalue": "The truth value of a DataFrame is ambiguous. Use a.empty, a.bool(), a.item(), a.any() or a.all().",
     "output_type": "error",
     "traceback": [
      "\u001b[0;31m---------------------------------------------------------------------------\u001b[0m",
      "\u001b[0;31mValueError\u001b[0m                                Traceback (most recent call last)",
      "\u001b[0;32m/tmp/ipykernel_4558/3292140861.py\u001b[0m in \u001b[0;36m<module>\u001b[0;34m\u001b[0m\n\u001b[1;32m     23\u001b[0m \u001b[0mlst\u001b[0m \u001b[0;34m=\u001b[0m \u001b[0;34m[\u001b[0m\u001b[0;36m1\u001b[0m\u001b[0;34m,\u001b[0m\u001b[0;36m2\u001b[0m\u001b[0;34m,\u001b[0m\u001b[0;36m3\u001b[0m\u001b[0;34m,\u001b[0m\u001b[0;36m4\u001b[0m\u001b[0;34m,\u001b[0m\u001b[0;36m5\u001b[0m\u001b[0;34m,\u001b[0m\u001b[0;36m6\u001b[0m\u001b[0;34m,\u001b[0m\u001b[0;36m7\u001b[0m\u001b[0;34m,\u001b[0m\u001b[0;36m8\u001b[0m\u001b[0;34m]\u001b[0m\u001b[0;34m\u001b[0m\u001b[0;34m\u001b[0m\u001b[0m\n\u001b[1;32m     24\u001b[0m \u001b[0mcols\u001b[0m \u001b[0;34m=\u001b[0m \u001b[0;34m[\u001b[0m\u001b[0;34m\"a\"\u001b[0m\u001b[0;34m,\u001b[0m \u001b[0;34m\"b\"\u001b[0m\u001b[0;34m]\u001b[0m\u001b[0;34m\u001b[0m\u001b[0;34m\u001b[0m\u001b[0m\n\u001b[0;32m---> 25\u001b[0;31m \u001b[0mmake_df\u001b[0m\u001b[0;34m(\u001b[0m\u001b[0mlst\u001b[0m\u001b[0;34m,\u001b[0m \u001b[0mcols\u001b[0m\u001b[0;34m)\u001b[0m\u001b[0;34m\u001b[0m\u001b[0;34m\u001b[0m\u001b[0m\n\u001b[0m",
      "\u001b[0;32m/tmp/ipykernel_4558/3292140861.py\u001b[0m in \u001b[0;36mmake_df\u001b[0;34m(lst, column_names)\u001b[0m\n\u001b[1;32m     13\u001b[0m         \u001b[0;32mreturn\u001b[0m \u001b[0mdf\u001b[0m\u001b[0;34m\u001b[0m\u001b[0;34m\u001b[0m\u001b[0m\n\u001b[1;32m     14\u001b[0m     \u001b[0;32mimport\u001b[0m \u001b[0mpdb\u001b[0m\u001b[0;34m;\u001b[0m \u001b[0mpdb\u001b[0m\u001b[0;34m.\u001b[0m\u001b[0mset_trace\u001b[0m\u001b[0;34m(\u001b[0m\u001b[0;34m)\u001b[0m\u001b[0;34m\u001b[0m\u001b[0;34m\u001b[0m\u001b[0m\n\u001b[0;32m---> 15\u001b[0;31m     \u001b[0;32mfor\u001b[0m \u001b[0mcol\u001b[0m \u001b[0;32min\u001b[0m \u001b[0mrange\u001b[0m\u001b[0;34m(\u001b[0m\u001b[0;36m0\u001b[0m\u001b[0;34m,\u001b[0m \u001b[0mlen_list\u001b[0m\u001b[0;34m,\u001b[0m \u001b[0mlen_column\u001b[0m\u001b[0;34m)\u001b[0m\u001b[0;34m:\u001b[0m\u001b[0;34m\u001b[0m\u001b[0;34m\u001b[0m\u001b[0m\n\u001b[0m\u001b[1;32m     16\u001b[0m         \u001b[0;32mif\u001b[0m \u001b[0mdf\u001b[0m\u001b[0;34m:\u001b[0m\u001b[0;34m\u001b[0m\u001b[0;34m\u001b[0m\u001b[0m\n\u001b[1;32m     17\u001b[0m             \u001b[0mdf\u001b[0m\u001b[0;34m[\u001b[0m\u001b[0mcolumn_names\u001b[0m\u001b[0;34m[\u001b[0m\u001b[0mcol\u001b[0m\u001b[0;34m]\u001b[0m\u001b[0;34m]\u001b[0m \u001b[0;34m=\u001b[0m \u001b[0mlst\u001b[0m\u001b[0;34m[\u001b[0m\u001b[0mcol\u001b[0m\u001b[0;34m:\u001b[0m\u001b[0;34m:\u001b[0m\u001b[0mlen_column\u001b[0m\u001b[0;34m]\u001b[0m\u001b[0;34m\u001b[0m\u001b[0;34m\u001b[0m\u001b[0m\n",
      "\u001b[0;32m~/anaconda3/envs/dmv_test/lib/python3.9/site-packages/pandas/core/generic.py\u001b[0m in \u001b[0;36m__nonzero__\u001b[0;34m(self)\u001b[0m\n\u001b[1;32m   1535\u001b[0m     \u001b[0;34m@\u001b[0m\u001b[0mfinal\u001b[0m\u001b[0;34m\u001b[0m\u001b[0;34m\u001b[0m\u001b[0m\n\u001b[1;32m   1536\u001b[0m     \u001b[0;32mdef\u001b[0m \u001b[0m__nonzero__\u001b[0m\u001b[0;34m(\u001b[0m\u001b[0mself\u001b[0m\u001b[0;34m)\u001b[0m\u001b[0;34m:\u001b[0m\u001b[0;34m\u001b[0m\u001b[0;34m\u001b[0m\u001b[0m\n\u001b[0;32m-> 1537\u001b[0;31m         raise ValueError(\n\u001b[0m\u001b[1;32m   1538\u001b[0m             \u001b[0;34mf\"The truth value of a {type(self).__name__} is ambiguous. \"\u001b[0m\u001b[0;34m\u001b[0m\u001b[0;34m\u001b[0m\u001b[0m\n\u001b[1;32m   1539\u001b[0m             \u001b[0;34m\"Use a.empty, a.bool(), a.item(), a.any() or a.all().\"\u001b[0m\u001b[0;34m\u001b[0m\u001b[0;34m\u001b[0m\u001b[0m\n",
      "\u001b[0;31mValueError\u001b[0m: The truth value of a DataFrame is ambiguous. Use a.empty, a.bool(), a.item(), a.any() or a.all()."
     ]
    }
   ],
   "source": [
    "import pandas as pd\n",
    "def make_df(lst, column_names):\n",
    "    # Reshape lst to be a df with n=len(columns_names) columns\n",
    "    # 0th row has items lst[0] lst[1] ... (n-1)th\n",
    "    # 1st row has items lst[0+n] lst[1+n] ... lst[(n-1 + n)i\n",
    "    # ... etc\n",
    "    num_column = len(column_names)\n",
    "    len_list = len(lst)\n",
    "    len_column = len_list//num_column\n",
    "    df = None\n",
    "    if len_list % len_column != 0:\n",
    "        print(f\"length of lst ({len_list}) must be even multiple of # of names ({num_column})\")\n",
    "        return df\n",
    "    import pdb; pdb.set_trace()\n",
    "\n",
    "    df = pd.DataFrame(lst[0::num_column], columns=list(column_names[col]))\n",
    "    for col in range(1, num_column):\n",
    "        df = pd.DataFrame(lst[0::num_column], columns=list(column_names[col]))\n",
    "    \n",
    "    return df\n",
    "\n",
    "lst = [1,2,3,4,5,6,7,8]\n",
    "cols = [\"a\", \"b\"]\n",
    "make_df(lst, cols)\n"
   ]
  },
  {
   "cell_type": "code",
   "execution_count": 1,
   "metadata": {},
   "outputs": [
    {
     "ename": "NameError",
     "evalue": "name 'lst' is not defined",
     "output_type": "error",
     "traceback": [
      "\u001b[0;31m---------------------------------------------------------------------------\u001b[0m",
      "\u001b[0;31mNameError\u001b[0m                                 Traceback (most recent call last)",
      "\u001b[0;32m/tmp/ipykernel_4558/1684435510.py\u001b[0m in \u001b[0;36m<module>\u001b[0;34m\u001b[0m\n\u001b[0;32m----> 1\u001b[0;31m \u001b[0mlst\u001b[0m\u001b[0;34m[\u001b[0m\u001b[0;36m1\u001b[0m\u001b[0;34m:\u001b[0m\u001b[0;34m:\u001b[0m\u001b[0;36m2\u001b[0m\u001b[0;34m]\u001b[0m\u001b[0;34m\u001b[0m\u001b[0;34m\u001b[0m\u001b[0m\n\u001b[0m",
      "\u001b[0;31mNameError\u001b[0m: name 'lst' is not defined"
     ]
    }
   ],
   "source": [
    "lst[1::2]"
   ]
  },
  {
   "cell_type": "code",
   "execution_count": null,
   "metadata": {},
   "outputs": [],
   "source": [
    "def main():\n",
    "\n",
    "    # Get the data\n",
    "    log = get_data(fn)\n",
    "\n",
    "    # Decode the b64 column into new column, payload\n",
    "    log[\"payload\"] = log.loc[:,\"b64\"].apply(d64)\n",
    "\n",
    "    # Show the result\n",
    "    pp.pprint(log[[\"host\", \"earliest\", \"payload\"]])\n",
    "\n",
    "    # Save to csv file\n",
    "    log[[\"host\", \"earliest\", \"payload\"]].to_csv(\"decode_\" + fn)\n",
    "\n"
   ]
  },
  {
   "cell_type": "code",
   "execution_count": 12,
   "metadata": {},
   "outputs": [],
   "source": [
    "df=pd.DataFrame([1, 3, 5, 7], columns=[\"a\"])"
   ]
  },
  {
   "cell_type": "code",
   "execution_count": 13,
   "metadata": {},
   "outputs": [
    {
     "data": {
      "text/html": [
       "<div>\n",
       "<style scoped>\n",
       "    .dataframe tbody tr th:only-of-type {\n",
       "        vertical-align: middle;\n",
       "    }\n",
       "\n",
       "    .dataframe tbody tr th {\n",
       "        vertical-align: top;\n",
       "    }\n",
       "\n",
       "    .dataframe thead th {\n",
       "        text-align: right;\n",
       "    }\n",
       "</style>\n",
       "<table border=\"1\" class=\"dataframe\">\n",
       "  <thead>\n",
       "    <tr style=\"text-align: right;\">\n",
       "      <th></th>\n",
       "      <th>a</th>\n",
       "    </tr>\n",
       "  </thead>\n",
       "  <tbody>\n",
       "    <tr>\n",
       "      <th>0</th>\n",
       "      <td>1</td>\n",
       "    </tr>\n",
       "    <tr>\n",
       "      <th>1</th>\n",
       "      <td>3</td>\n",
       "    </tr>\n",
       "    <tr>\n",
       "      <th>2</th>\n",
       "      <td>5</td>\n",
       "    </tr>\n",
       "    <tr>\n",
       "      <th>3</th>\n",
       "      <td>7</td>\n",
       "    </tr>\n",
       "  </tbody>\n",
       "</table>\n",
       "</div>"
      ],
      "text/plain": [
       "   a\n",
       "0  1\n",
       "1  3\n",
       "2  5\n",
       "3  7"
      ]
     },
     "execution_count": 13,
     "metadata": {},
     "output_type": "execute_result"
    }
   ],
   "source": [
    "df\n"
   ]
  },
  {
   "cell_type": "code",
   "execution_count": 14,
   "metadata": {},
   "outputs": [],
   "source": [
    "df[\"b\"] = [2, 4, 6, 8]"
   ]
  },
  {
   "cell_type": "code",
   "execution_count": 15,
   "metadata": {},
   "outputs": [
    {
     "data": {
      "text/html": [
       "<div>\n",
       "<style scoped>\n",
       "    .dataframe tbody tr th:only-of-type {\n",
       "        vertical-align: middle;\n",
       "    }\n",
       "\n",
       "    .dataframe tbody tr th {\n",
       "        vertical-align: top;\n",
       "    }\n",
       "\n",
       "    .dataframe thead th {\n",
       "        text-align: right;\n",
       "    }\n",
       "</style>\n",
       "<table border=\"1\" class=\"dataframe\">\n",
       "  <thead>\n",
       "    <tr style=\"text-align: right;\">\n",
       "      <th></th>\n",
       "      <th>a</th>\n",
       "      <th>b</th>\n",
       "    </tr>\n",
       "  </thead>\n",
       "  <tbody>\n",
       "    <tr>\n",
       "      <th>0</th>\n",
       "      <td>1</td>\n",
       "      <td>2</td>\n",
       "    </tr>\n",
       "    <tr>\n",
       "      <th>1</th>\n",
       "      <td>3</td>\n",
       "      <td>4</td>\n",
       "    </tr>\n",
       "    <tr>\n",
       "      <th>2</th>\n",
       "      <td>5</td>\n",
       "      <td>6</td>\n",
       "    </tr>\n",
       "    <tr>\n",
       "      <th>3</th>\n",
       "      <td>7</td>\n",
       "      <td>8</td>\n",
       "    </tr>\n",
       "  </tbody>\n",
       "</table>\n",
       "</div>"
      ],
      "text/plain": [
       "   a  b\n",
       "0  1  2\n",
       "1  3  4\n",
       "2  5  6\n",
       "3  7  8"
      ]
     },
     "execution_count": 15,
     "metadata": {},
     "output_type": "execute_result"
    }
   ],
   "source": [
    "df\n"
   ]
  },
  {
   "cell_type": "code",
   "execution_count": null,
   "metadata": {},
   "outputs": [],
   "source": [
    "df.columns = [\"a\", \"b\"]"
   ]
  },
  {
   "cell_type": "code",
   "execution_count": null,
   "metadata": {},
   "outputs": [],
   "source": [
    "df\n"
   ]
  },
  {
   "cell_type": "code",
   "execution_count": 16,
   "metadata": {},
   "outputs": [
    {
     "data": {
      "text/plain": [
       "['a']"
      ]
     },
     "execution_count": 16,
     "metadata": {},
     "output_type": "execute_result"
    }
   ],
   "source": [
    "list(\"a\")"
   ]
  },
  {
   "cell_type": "code",
   "execution_count": null,
   "metadata": {},
   "outputs": [],
   "source": []
  }
 ],
 "metadata": {
  "kernelspec": {
   "display_name": "Python [conda env:dmv_test]",
   "language": "python",
   "name": "conda-env-dmv_test-py"
  },
  "language_info": {
   "codemirror_mode": {
    "name": "ipython",
    "version": 3
   },
   "file_extension": ".py",
   "mimetype": "text/x-python",
   "name": "python",
   "nbconvert_exporter": "python",
   "pygments_lexer": "ipython3",
   "version": "3.9.7"
  }
 },
 "nbformat": 4,
 "nbformat_minor": 4
}
